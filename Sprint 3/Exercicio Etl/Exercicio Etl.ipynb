{
 "cells": [
  {
   "cell_type": "code",
   "execution_count": 22,
   "id": "d05adea2-d9ba-427a-ba84-fd426be4627b",
   "metadata": {
    "tags": []
   },
   "outputs": [
    {
     "data": {
      "text/plain": [
       "('Robert DeNiro', 79)"
      ]
     },
     "execution_count": 22,
     "metadata": {},
     "output_type": "execute_result"
    }
   ],
   "source": [
    "#Etapa 1\n",
    "\n",
    "file_path = 'C:/Users/igord/OneDrive/Área de Trabalho/Exercicio Etl/actors.csv'\n",
    "\n",
    "with open(file_path, 'r') as file:\n",
    "    data = file.readlines()\n",
    "    \n",
    "data[:10]\n",
    "\n",
    "data = data[1:]\n",
    "max_movies = 0\n",
    "actor_with_max_movies = \"\"\n",
    "\n",
    "for line in data:\n",
    "    columns = split_csv_line(line)\n",
    "    \n",
    "    try:\n",
    "        actor = columns[0].strip('\"')\n",
    "        number_of_movies = int(columns[2].strip())\n",
    "    except ValueError:\n",
    "        continue  \n",
    "    \n",
    "    if number_of_movies > max_movies:\n",
    "        max_movies = number_of_movies\n",
    "        actor_with_max_movies = actor\n",
    "\n",
    "actor_with_max_movies, max_movies"
   ]
  },
  {
   "cell_type": "code",
   "execution_count": null,
   "id": "1f5ff9c4-f9f4-4145-9104-23c8237a07d6",
   "metadata": {},
   "outputs": [],
   "source": []
  },
  {
   "cell_type": "code",
   "execution_count": 40,
   "id": "5e7406be-0af3-49e7-b98a-0f14eb89a63a",
   "metadata": {
    "tags": []
   },
   "outputs": [
    {
     "name": "stdout",
     "output_type": "stream",
     "text": [
      "A média de receita de bilheteria bruta dos principais filmes foi salva em 'average_gross.txt'\n"
     ]
    }
   ],
   "source": [
    "# Etapa 2\n",
    "file_path = 'C:/Users/igord/OneDrive/Área de Trabalho/Exercicio Etl/actors.csv'\n",
    "\n",
    "def split_csv_line(line):\n",
    "    columns = []\n",
    "    current = \"\"\n",
    "    in_quotes = False\n",
    "    for char in line:\n",
    "        if char == '\"':\n",
    "            in_quotes = not in_quotes\n",
    "        elif char == ',' and not in_quotes:\n",
    "            columns.append(current.strip())\n",
    "            current = \"\"\n",
    "        else:\n",
    "            current += char\n",
    "    columns.append(current.strip())\n",
    "    return columns\n",
    "\n",
    "with open(file_path, 'r') as file:\n",
    "    data = file.readlines()\n",
    "\n",
    "data = data[1:]\n",
    "\n",
    "total_gross = 0.0\n",
    "count = 0\n",
    "\n",
    "for line in data:\n",
    "    columns = split_csv_line(line)\n",
    "    \n",
    "    try:\n",
    "        gross = float(columns[5].strip())\n",
    "        total_gross += gross\n",
    "        count += 1\n",
    "    except ValueError:\n",
    "        continue  \n",
    "\n",
    "average_gross = total_gross / count if count > 0 else 0\n",
    "\n",
    "output_path = 'C:/Users/igord/OneDrive/Área de Trabalho/Exercicio Etl/Etapa-2.txt'\n",
    "with open(output_path, 'w') as output_file:\n",
    "    output_file.write(f'A média de receita de bilheteria bruta dos principais filmes é: {average_gross}\\n')\n",
    "\n",
    "print(\"A média de receita de bilheteria bruta dos principais filmes foi salva em 'average_gross.txt'\")\n"
   ]
  },
  {
   "cell_type": "code",
   "execution_count": 26,
   "id": "dcd01ce1-9d6a-4174-8ee7-1c83bd61c98b",
   "metadata": {
    "tags": []
   },
   "outputs": [
    {
     "data": {
      "text/plain": [
       "('Anthony Daniels', 451.8)"
      ]
     },
     "execution_count": 26,
     "metadata": {},
     "output_type": "execute_result"
    }
   ],
   "source": [
    "# Etapa 3\n",
    "\n",
    "max_average_gross = 0.0\n",
    "actor_with_max_average_gross = \"\"\n",
    "\n",
    "for line in data:\n",
    "    columns = split_csv_line(line)\n",
    "    \n",
    "    try:\n",
    "        actor = columns[0].strip('\"')\n",
    "        average_per_movie = float(columns[3].strip())\n",
    "    except ValueError:\n",
    "        continue  \n",
    "    \n",
    "    if average_per_movie > max_average_gross:\n",
    "        max_average_gross = average_per_movie\n",
    "        actor_with_max_average_gross = actor\n",
    "\n",
    "actor_with_max_average_gross, max_average_gross\n"
   ]
  },
  {
   "cell_type": "code",
   "execution_count": 32,
   "id": "dcef593a-5861-493c-8d71-c69dea1dbbd9",
   "metadata": {
    "tags": []
   },
   "outputs": [
    {
     "name": "stdout",
     "output_type": "stream",
     "text": [
      "Contagem de aparições dos filmes de maior bilheteria foi salva em 'output.txt'\n"
     ]
    }
   ],
   "source": [
    "# Etapa 4\n",
    "file_path = 'C:/Users/igord/OneDrive/Área de Trabalho/Exercicio Etl/actors.csv'\n",
    "\n",
    "def split_csv_line(line):\n",
    "    columns = []\n",
    "    current = \"\"\n",
    "    in_quotes = False\n",
    "    for char in line:\n",
    "        if char == '\"':\n",
    "            in_quotes = not in_quotes\n",
    "        elif char == ',' and not in_quotes:\n",
    "            columns.append(current.strip())\n",
    "            current = \"\"\n",
    "        else:\n",
    "            current += char\n",
    "    columns.append(current.strip())\n",
    "    return columns\n",
    "\n",
    "with open(file_path, 'r') as file:\n",
    "    data = file.readlines()\n",
    "\n",
    "data = data[1:]\n",
    "\n",
    "movie_count = {}\n",
    "\n",
    "for line in data:\n",
    "    columns = split_csv_line(line)\n",
    "    movie = columns[4].strip('\"')\n",
    "    if movie in movie_count:\n",
    "        movie_count[movie] += 1\n",
    "    else:\n",
    "        movie_count[movie] = 1\n",
    "\n",
    "sorted_movies = sorted(movie_count.items(), key=lambda x: (-x[1], x[0]))\n",
    "\n",
    "output_path = 'C:/Users/igord/OneDrive/Área de Trabalho/Exercicio Etl/Etapa-4.txt'\n",
    "with open(output_path, 'w') as output_file:\n",
    "    for movie, count in sorted_movies:\n",
    "        output_file.write(f'O filme {movie} aparece {count} vez(es) no dataset.\\n')\n",
    "\n",
    "print(\"Contagem de aparições dos filmes de maior bilheteria foi salva em 'output.txt'\")\n"
   ]
  },
  {
   "cell_type": "code",
   "execution_count": 34,
   "id": "f05031e0-c25a-43bf-9b6b-df4c7e348bd4",
   "metadata": {
    "tags": []
   },
   "outputs": [
    {
     "name": "stdout",
     "output_type": "stream",
     "text": [
      "Lista de atores ordenada pela receita bruta de bilheteria foi salva em 'actors_gross.txt'\n"
     ]
    }
   ],
   "source": [
    "# Etapa 5\n",
    "file_path = 'C:/Users/igord/OneDrive/Área de Trabalho/Exercicio Etl/actors.csv'\n",
    "\n",
    "def split_csv_line(line):\n",
    "    columns = []\n",
    "    current = \"\"\n",
    "    in_quotes = False\n",
    "    for char in line:\n",
    "        if char == '\"':\n",
    "            in_quotes = not in_quotes\n",
    "        elif char == ',' and not in_quotes:\n",
    "            columns.append(current.strip())\n",
    "            current = \"\"\n",
    "        else:\n",
    "            current += char\n",
    "    columns.append(current.strip())\n",
    "    return columns\n",
    "\n",
    "with open(file_path, 'r') as file:\n",
    "    data = file.readlines()\n",
    "\n",
    "data = data[1:]\n",
    "\n",
    "actors_gross = []\n",
    "\n",
    "for line in data:\n",
    "    columns = split_csv_line(line)\n",
    "    actor = columns[0].strip('\"')\n",
    "    try:\n",
    "        total_gross = float(columns[1].strip())\n",
    "        actors_gross.append((actor, total_gross))\n",
    "    except ValueError:\n",
    "        continue  \n",
    "\n",
    "sorted_actors_gross = sorted(actors_gross, key=lambda x: x[1], reverse=True)\n",
    "\n",
    "output_path = 'C:/Users/igord/OneDrive/Área de Trabalho/Exercicio Etl/Etapa-5.txt'\n",
    "with open(output_path, 'w') as output_file:\n",
    "    for actor, gross in sorted_actors_gross:\n",
    "        output_file.write(f'{actor} - {gross}\\n')\n",
    "\n",
    "print(\"Lista de atores ordenada pela receita bruta de bilheteria foi salva em 'actors_gross.txt'\")\n"
   ]
  },
  {
   "cell_type": "code",
   "execution_count": 36,
   "id": "48059a71-2329-4153-a431-7aebe5c92a9d",
   "metadata": {
    "tags": []
   },
   "outputs": [
    {
     "name": "stdout",
     "output_type": "stream",
     "text": [
      "A média de receita de bilheteria bruta dos principais filmes foi salva em 'average_gross.txt'\n"
     ]
    }
   ],
   "source": [
    "\n"
   ]
  },
  {
   "cell_type": "code",
   "execution_count": null,
   "id": "501cdc54-dde9-492e-beb9-50436a37b0bb",
   "metadata": {},
   "outputs": [],
   "source": []
  }
 ],
 "metadata": {
  "kernelspec": {
   "display_name": "Python 3 (ipykernel)",
   "language": "python",
   "name": "python3"
  },
  "language_info": {
   "codemirror_mode": {
    "name": "ipython",
    "version": 3
   },
   "file_extension": ".py",
   "mimetype": "text/x-python",
   "name": "python",
   "nbconvert_exporter": "python",
   "pygments_lexer": "ipython3",
   "version": "3.11.7"
  }
 },
 "nbformat": 4,
 "nbformat_minor": 5
}
